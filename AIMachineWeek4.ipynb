{
  "nbformat": 4,
  "nbformat_minor": 0,
  "metadata": {
    "colab": {
      "name": "AIMachineWeek4.ipynb",
      "version": "0.3.2",
      "provenance": [],
      "include_colab_link": true
    },
    "kernelspec": {
      "name": "python2",
      "display_name": "Python 2"
    }
  },
  "cells": [
    {
      "cell_type": "markdown",
      "metadata": {
        "id": "view-in-github",
        "colab_type": "text"
      },
      "source": [
        "<a href=\"https://colab.research.google.com/github/brotheroak/artificialintelligencemachinesystem/blob/master/AIMachineWeek4.ipynb\" target=\"_parent\"><img src=\"https://colab.research.google.com/assets/colab-badge.svg\" alt=\"Open In Colab\"/></a>"
      ]
    },
    {
      "metadata": {
        "id": "x3GwWuMcfZcM",
        "colab_type": "code",
        "colab": {
          "base_uri": "https://localhost:8080/",
          "height": 338
        },
        "outputId": "8f7dd7fd-0c3a-41db-ca11-84dbd617d4d7"
      },
      "cell_type": "code",
      "source": [
        "#과제 3_1\n",
        "import cv2\n",
        "import numpy as np\n",
        "import matplotlib.pyplot as plt\n",
        "import time\n",
        "\n",
        "def inRange_custom(image_array, lowerbound, upperbound):\n",
        "  height=len(image)\n",
        "  length=len(image[0])\n",
        "  for h in range(height):\n",
        "    for l in range(length):\n",
        "      if lowerbound[0]<=image_array[h][l][0]<=upperbound[0] and lowerbound[1]<=image_array[h][l][1]<=upperbound[1] and lowerbound[2]<=image_array[h][l][2]<=upperbound[2]:\n",
        "        image_array[h][l] = np.array([255,255,255])\n",
        "      else:\n",
        "        image_array[h][l] = np.array([0,0,0])\n",
        "  return image_array\n",
        "\n",
        "image=cv2.imread(\"./sample_data/sample_image.jpg\")\n",
        "lower_bound=np.array([200,200,200])\n",
        "upper_bound=np.array([255,255,255])\n",
        "start_time=time.time()\n",
        "new=inRange_custom(image,lower_bound,upper_bound)\n",
        "cv2.imwrite(\"./sample_data/test_custom.jpg\",new)\n",
        "print(time.time()-start_time)\n",
        "plt.grid(False)\n",
        "plt.imshow(new)"
      ],
      "execution_count": 1,
      "outputs": [
        {
          "output_type": "stream",
          "text": [
            "1.30924510956\n"
          ],
          "name": "stdout"
        },
        {
          "output_type": "execute_result",
          "data": {
            "text/plain": [
              "<matplotlib.image.AxesImage at 0x7f444f45a1d0>"
            ]
          },
          "metadata": {
            "tags": []
          },
          "execution_count": 1
        },
        {
          "output_type": "display_data",
          "data": {
            "image/png": "[encoded data removed]",
            "text/plain": [
              "<Figure size 576x396 with 1 Axes>"
            ]
          },
          "metadata": {
            "tags": []
          }
        }
      ]
    },
    {
      "metadata": {
        "id": "PePtlsU8ffyp",
        "colab_type": "code",
        "colab": {
          "base_uri": "https://localhost:8080/",
          "height": 323
        },
        "outputId": "94801aae-37da-4d3b-ae8f-f0f583b92cac"
      },
      "cell_type": "code",
      "source": [
        "#과제 3_2\n",
        "import cv2\n",
        "import numpy as np\n",
        "import matplotlib.pyplot as plt\n",
        "import time\n",
        "\n",
        "def inRange_custom_yellow(image_array, lowerbound, upperbound):\n",
        "  height=len(image)\n",
        "  length=len(image[0])\n",
        "  for h in range(height):\n",
        "    for l in range(length):\n",
        "      if lowerbound[0]<=image_array[h][l][0]<=upperbound[0] and lowerbound[1]<=image_array[h][l][1]<=upperbound[1] and lowerbound[2]<=image_array[h][l][2]<=upperbound[2]:\n",
        "        image_array[h][l] = np.array([255,255,255])\n",
        "      else:\n",
        "        image_array[h][l] = np.array([0,0,0])\n",
        "  return image_array\n",
        "\n",
        "image=cv2.imread(\"./sample_data/sample_image2.jpg\")\n",
        "hsv=cv2.cvtColor(image,cv2.COLOR_BGR2HSV)\n",
        "lowerbound=np.array([15,100,100])\n",
        "upperbound=np.array([30,255,255])\n",
        "new=inRange_custom_yellow(hsv,lowerbound,upperbound)\n",
        "cv2.imwrite(\"./sample_data/test_hsv2.jpg\",hsv)\n",
        "cv2.imwrite(\"./sample_data/get_yellow.jpg\",new)\n",
        "plt.grid(False)\n",
        "plt.imshow(new)"
      ],
      "execution_count": 2,
      "outputs": [
        {
          "output_type": "execute_result",
          "data": {
            "text/plain": [
              "<matplotlib.image.AxesImage at 0x7f444eb86a90>"
            ]
          },
          "metadata": {
            "tags": []
          },
          "execution_count": 2
        },
        {
          "output_type": "display_data",
          "data": {
            "image/png": "[encoded data removed]",
            "text/plain": [
              "<Figure size 576x396 with 1 Axes>"
            ]
          },
          "metadata": {
            "tags": []
          }
        }
      ]
    }
  ]
}