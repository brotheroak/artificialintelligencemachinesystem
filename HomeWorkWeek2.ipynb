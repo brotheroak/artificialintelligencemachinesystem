{
  "nbformat": 4,
  "nbformat_minor": 0,
  "metadata": {
    "colab": {
      "name": "HomeWorkWeek2.ipynb",
      "version": "0.3.2",
      "provenance": [],
      "collapsed_sections": [],
      "include_colab_link": true
    },
    "kernelspec": {
      "name": "python2",
      "display_name": "Python 2"
    }
  },
  "cells": [
    {
      "cell_type": "markdown",
      "metadata": {
        "id": "view-in-github",
        "colab_type": "text"
      },
      "source": [
        "<a href=\"https://colab.research.google.com/github/brotheroak/artificialintelligencemachinesystem/blob/master/HomeWorkWeek2.ipynb\" target=\"_parent\"><img src=\"https://colab.research.google.com/assets/colab-badge.svg\" alt=\"Open In Colab\"/></a>"
      ]
    },
    {
      "metadata": {
        "id": "rVYQWGOxeroq",
        "colab_type": "code",
        "colab": {}
      },
      "cell_type": "code",
      "source": [
        "#• 조건 1: 처음에 1 또는 2라는 숫자를 입력해서 컴퓨터 선공인지, You가 선공인지 결정\n",
        "#• 조건2:You가숫자를부를때1~3중하나의숫자를입력해서숫자를몇번부를것인지결정(예를들어 3 을 입력한다면 3번의 숫자를 연달아 부르는 것)\n",
        "#• 조건3:컴퓨터는랜덤하게숫자를부름(1,2,3중하나)\n",
        "#• 조건4:잘못된input이들어갔을경우다시입력하라는에러메시지출력\n",
        "#• 조건5:이미승부가결정났을경우더이상값을입력받지않고정해진결과를출력"
      ],
      "execution_count": 0,
      "outputs": []
    },
    {
      "metadata": {
        "id": "rJ-HuQWBe4PY",
        "colab_type": "code",
        "outputId": "e09c46f6-332e-480e-db36-b7634f33c9bb",
        "colab": {
          "base_uri": "https://localhost:8080/",
          "height": 737
        }
      },
      "cell_type": "code",
      "source": [
        "import random as rd\n",
        "\n",
        "def firstquestion():\n",
        "  boolean=True\n",
        "  a = 0\n",
        "  while boolean:\n",
        "    try:\n",
        "      a = input(\"Computer First : 1 / You First : 2 >>>\")\n",
        "\n",
        "      if (a == 1):\n",
        "        print('Computer First')\n",
        "        boolean = False\n",
        "      elif (a == 2):        \n",
        "        boolean = False\n",
        "      else:\n",
        "        print('Wrong Number!! Select Again. ')\n",
        "        boolean = True\n",
        "    except:\n",
        "      print('Wrong Number!! Select Again. ')\n",
        "      boolean = True\n",
        "  return a\n",
        "\n",
        "def userquestion(i):\n",
        "  boolean=True\n",
        "  a = 0\n",
        "  while boolean:\n",
        "    try:\n",
        "      a = input(\"Insert next increment 1 or 2 or 3 >>\")      \n",
        "      if (a > 0 and a < 4):\n",
        "        myturn(a, i)\n",
        "        boolean = False\n",
        "      else:\n",
        "        print(\"Wrong Number!! Select Again.\")\n",
        "        boolean = True\n",
        "    except:\n",
        "      print('Wrong Number!! Select Again. ')\n",
        "      boolean = True\n",
        "\n",
        "def comturn(a):\n",
        "  \n",
        "  b = rd.randint(1,3)\n",
        "  \n",
        "  for i in range(b):\n",
        "    a += 1\n",
        "    print('Computer : %d' %a)\n",
        "    \n",
        "  if (a == 26):\n",
        "    for i in range(rd.randint(1,3)):\n",
        "      a += 1\n",
        "      print('You : %d' %a)\n",
        "    for i in range(a+1, 31):\n",
        "      print('Computer : %d' %i)\n",
        "    print('You : 31')\n",
        "    print(\"Computer WIN !!!!\")        \n",
        "  elif(a >= 27 and a < 30):\n",
        "    for i in range(a+1, 31):\n",
        "      print('You : %d' %i)\n",
        "    print('Computer : 31')\n",
        "    print(\"You WIN !!!!\")\n",
        "  elif(a == 30 ):\n",
        "    print('You : 31')\n",
        "    print(\"Computer WIN !!!!\")\n",
        "  else:\n",
        "    userquestion(a)\n",
        "  \n",
        "def myturn(a, b):\n",
        "  for i in range(a):\n",
        "    b += 1\n",
        "    print('You : %d' %b)\n",
        "  comturn(b)\n",
        "\n",
        "\n",
        "d = firstquestion()\n",
        "a= 0\n",
        "if (d ==1):\n",
        "  comturn(a)\n",
        "else:\n",
        "  userquestion(a)\n",
        "    \n"
      ],
      "execution_count": 5,
      "outputs": [
        {
          "output_type": "stream",
          "text": [
            "Computer First : 1 / You First : 2 >>>2\n",
            "Insert next increment 1 or 2 or 3 >>3\n",
            "You : 1\n",
            "You : 2\n",
            "You : 3\n",
            "Computer : 4\n",
            "Computer : 5\n",
            "Insert next increment 1 or 2 or 3 >>2\n",
            "You : 6\n",
            "You : 7\n",
            "Computer : 8\n",
            "Insert next increment 1 or 2 or 3 >>3\n",
            "You : 9\n",
            "You : 10\n",
            "You : 11\n",
            "Computer : 12\n",
            "Computer : 13\n",
            "Computer : 14\n",
            "Insert next increment 1 or 2 or 3 >>2\n",
            "You : 15\n",
            "You : 16\n",
            "Computer : 17\n",
            "Insert next increment 1 or 2 or 3 >>3\n",
            "You : 18\n",
            "You : 19\n",
            "You : 20\n",
            "Computer : 21\n",
            "Insert next increment 1 or 2 or 3 >>2\n",
            "You : 22\n",
            "You : 23\n",
            "Computer : 24\n",
            "Computer : 25\n",
            "Insert next increment 1 or 2 or 3 >>1\n",
            "You : 26\n",
            "Computer : 27\n",
            "You : 28\n",
            "You : 29\n",
            "You : 30\n",
            "Computer: 31\n",
            "You WIN !!!!\n"
          ],
          "name": "stdout"
        }
      ]
    },
    {
      "metadata": {
        "id": "_a6-MPYHfLEB",
        "colab_type": "code",
        "colab": {}
      },
      "cell_type": "code",
      "source": [
        ""
      ],
      "execution_count": 0,
      "outputs": []
    }
  ]
}