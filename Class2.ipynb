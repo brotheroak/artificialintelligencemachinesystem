{
  "nbformat": 4,
  "nbformat_minor": 0,
  "metadata": {
    "colab": {
      "name": "Class2.ipynb",
      "version": "0.3.2",
      "provenance": [],
      "collapsed_sections": [],
      "include_colab_link": true
    },
    "kernelspec": {
      "name": "python2",
      "display_name": "Python 2"
    }
  },
  "cells": [
    {
      "cell_type": "markdown",
      "metadata": {
        "id": "view-in-github",
        "colab_type": "text"
      },
      "source": [
        "<a href=\"https://colab.research.google.com/github/brotheroak/artificialintelligencemachinesystem/blob/master/Class2.ipynb\" target=\"_parent\"><img src=\"https://colab.research.google.com/assets/colab-badge.svg\" alt=\"Open In Colab\"/></a>"
      ]
    },
    {
      "metadata": {
        "id": "ng-7z5FxPuOF",
        "colab_type": "code",
        "colab": {
          "base_uri": "https://localhost:8080/",
          "height": 34
        },
        "outputId": "9d132761-7d72-41f6-f3d6-3bace9603a28"
      },
      "cell_type": "code",
      "source": [
        "a = 10\n",
        "b = 20\n",
        "c = 30\n",
        "\n",
        "a==b"
      ],
      "execution_count": 2,
      "outputs": [
        {
          "output_type": "execute_result",
          "data": {
            "text/plain": [
              "False"
            ]
          },
          "metadata": {
            "tags": []
          },
          "execution_count": 2
        }
      ]
    },
    {
      "metadata": {
        "id": "f37ZbDUVP0Jc",
        "colab_type": "code",
        "colab": {
          "base_uri": "https://localhost:8080/",
          "height": 51
        },
        "outputId": "e5a1abf5-977d-42fe-e29b-206ef74d0c2a"
      },
      "cell_type": "code",
      "source": [
        "a = 1\n",
        "b = 2\n",
        "c = 10\n",
        "if(a==1):\n",
        "  print(\"a is 1\")\n",
        "if(b==2):\n",
        "  print(\"b is 2\")"
      ],
      "execution_count": 8,
      "outputs": [
        {
          "output_type": "stream",
          "text": [
            "a is 1\n",
            "b is 2\n"
          ],
          "name": "stdout"
        }
      ]
    },
    {
      "metadata": {
        "id": "L1p42ZjdQPii",
        "colab_type": "code",
        "colab": {
          "base_uri": "https://localhost:8080/",
          "height": 34
        },
        "outputId": "bd2eab4f-20ab-432c-972f-6e9b73d856e7"
      },
      "cell_type": "code",
      "source": [
        "a = 10\n",
        "b = 20\n",
        "if a>10 or b >10:\n",
        "  print(a,b)\n",
        "else:\n",
        "  print(\"NO result\")\n",
        "  "
      ],
      "execution_count": 12,
      "outputs": [
        {
          "output_type": "stream",
          "text": [
            "(10, 20)\n"
          ],
          "name": "stdout"
        }
      ]
    },
    {
      "metadata": {
        "id": "N-bmr9sOQ1qD",
        "colab_type": "code",
        "colab": {
          "base_uri": "https://localhost:8080/",
          "height": 34
        },
        "outputId": "1a0d6e42-a4c6-4ab0-fe9c-c72096ca9ef4"
      },
      "cell_type": "code",
      "source": [
        "a = 30\n",
        "if a<=10:\n",
        "  print(\"a는 숫자 10보다 작습니다.\")\n",
        "elif 10<a<=30:\n",
        "  print(\"a는 숫자 11-30사이 입니다.\")\n",
        "else:\n",
        "  print(\"a는 숫자 30보다 큽니다.\")"
      ],
      "execution_count": 14,
      "outputs": [
        {
          "output_type": "stream",
          "text": [
            "a는 숫자 11-30사이 입니다.\n"
          ],
          "name": "stdout"
        }
      ]
    },
    {
      "metadata": {
        "id": "FdoWiJ8nRFSG",
        "colab_type": "code",
        "colab": {
          "base_uri": "https://localhost:8080/",
          "height": 187
        },
        "outputId": "874e2eb0-fd8e-442a-e897-2d9180475abe"
      },
      "cell_type": "code",
      "source": [
        "a = 10\n",
        "while(a > 0):\n",
        "  print('%d를 출력합니다.' %a)\n",
        "  a -= 1"
      ],
      "execution_count": 25,
      "outputs": [
        {
          "output_type": "stream",
          "text": [
            "10를 출력합니다.\n",
            "9를 출력합니다.\n",
            "8를 출력합니다.\n",
            "7를 출력합니다.\n",
            "6를 출력합니다.\n",
            "5를 출력합니다.\n",
            "4를 출력합니다.\n",
            "3를 출력합니다.\n",
            "2를 출력합니다.\n",
            "1를 출력합니다.\n"
          ],
          "name": "stdout"
        }
      ]
    },
    {
      "metadata": {
        "id": "HeekDMfISpPz",
        "colab_type": "code",
        "colab": {
          "base_uri": "https://localhost:8080/",
          "height": 102
        },
        "outputId": "e301c76b-c613-4fcf-aafc-74b0c65f276f"
      },
      "cell_type": "code",
      "source": [
        "a = 0\n",
        "while True:\n",
        "  a += 1\n",
        "  if (a%2 == 0):\n",
        "    continue\n",
        "  print(\"a는 홀수 %d입니다.\"%a)\n",
        "  if a == 9:\n",
        "    break"
      ],
      "execution_count": 30,
      "outputs": [
        {
          "output_type": "stream",
          "text": [
            "a는 홀수 1입니다.\n",
            "a는 홀수 3입니다.\n",
            "a는 홀수 5입니다.\n",
            "a는 홀수 7입니다.\n",
            "a는 홀수 9입니다.\n"
          ],
          "name": "stdout"
        }
      ]
    },
    {
      "metadata": {
        "id": "n2QEw1iAUWiv",
        "colab_type": "code",
        "colab": {
          "base_uri": "https://localhost:8080/",
          "height": 119
        },
        "outputId": "5d52d529-3b14-4a13-aa64-e8304f6efcbc"
      },
      "cell_type": "code",
      "source": [
        "a=[1,2,3,\"a\",\"b\",4]\n",
        "b=10\n",
        "for i in range(len(a)):\n",
        "  print(a[i], b)\n",
        "  b+=1"
      ],
      "execution_count": 40,
      "outputs": [
        {
          "output_type": "stream",
          "text": [
            "(1, 10)\n",
            "(2, 11)\n",
            "(3, 12)\n",
            "('a', 13)\n",
            "('b', 14)\n",
            "(4, 15)\n"
          ],
          "name": "stdout"
        }
      ]
    },
    {
      "metadata": {
        "id": "0SuLvNXGUdSJ",
        "colab_type": "code",
        "colab": {
          "base_uri": "https://localhost:8080/",
          "height": 187
        },
        "outputId": "6933fee1-6926-48d0-a78f-0f1d3859afc4"
      },
      "cell_type": "code",
      "source": [
        "for i in range(10):\n",
        "  print(i, i+2)"
      ],
      "execution_count": 34,
      "outputs": [
        {
          "output_type": "stream",
          "text": [
            "(0, 2)\n",
            "(1, 3)\n",
            "(2, 4)\n",
            "(3, 5)\n",
            "(4, 6)\n",
            "(5, 7)\n",
            "(6, 8)\n",
            "(7, 9)\n",
            "(8, 10)\n",
            "(9, 11)\n"
          ],
          "name": "stdout"
        }
      ]
    },
    {
      "metadata": {
        "id": "zYH_FHTAVTOe",
        "colab_type": "code",
        "colab": {
          "base_uri": "https://localhost:8080/",
          "height": 34
        },
        "outputId": "bdea4696-ca5f-435a-bf60-5d70ce71a882"
      },
      "cell_type": "code",
      "source": [
        "def sum(a, b):\n",
        "  return a + b\n",
        "\n",
        "print(sum(10,2))"
      ],
      "execution_count": 42,
      "outputs": [
        {
          "output_type": "stream",
          "text": [
            "12\n"
          ],
          "name": "stdout"
        }
      ]
    },
    {
      "metadata": {
        "id": "2XrF7EA3XBnJ",
        "colab_type": "code",
        "colab": {
          "base_uri": "https://localhost:8080/",
          "height": 102
        },
        "outputId": "8846dccf-4262-4f04-fdbd-da86fcfe5788"
      },
      "cell_type": "code",
      "source": [
        "def find_prime_num(x):\n",
        "  for i in range(2,x):\n",
        "    default=1\n",
        "    for j in range(2,i):\n",
        "      if i%j==0 and j!= 1:\n",
        "        default=0\n",
        "    if default==1:\n",
        "      print(i)\n",
        "      \n",
        "a = input()\n",
        "find_prime_num(a)\n",
        "    \n",
        "    "
      ],
      "execution_count": 67,
      "outputs": [
        {
          "output_type": "stream",
          "text": [
            "10\n",
            "2\n",
            "3\n",
            "5\n",
            "7\n"
          ],
          "name": "stdout"
        }
      ]
    },
    {
      "metadata": {
        "id": "kMWzm5IRb6On",
        "colab_type": "code",
        "colab": {
          "base_uri": "https://localhost:8080/",
          "height": 136
        },
        "outputId": "58526bf5-dad9-4544-d4c4-5bb111364a6f"
      },
      "cell_type": "code",
      "source": [
        "print(type(\"a\"))\n",
        "print(type(1))\n",
        "print(type(1.2))\n",
        "print(type([1,2,3,4]))\n",
        "print(type(True))\n",
        "\n",
        "a = '123'\n",
        "print(type(a))\n",
        "\n",
        "print(type(int(a)))"
      ],
      "execution_count": 73,
      "outputs": [
        {
          "output_type": "stream",
          "text": [
            "<type 'str'>\n",
            "<type 'int'>\n",
            "<type 'float'>\n",
            "<type 'list'>\n",
            "<type 'bool'>\n",
            "<type 'str'>\n",
            "<type 'int'>\n"
          ],
          "name": "stdout"
        }
      ]
    }
  ]
}